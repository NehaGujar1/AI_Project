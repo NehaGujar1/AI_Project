{
  "nbformat": 4,
  "nbformat_minor": 0,
  "metadata": {
    "colab": {
      "provenance": []
    },
    "kernelspec": {
      "name": "python3",
      "display_name": "Python 3"
    },
    "language_info": {
      "name": "python"
    }
  },
  "cells": [
    {
      "cell_type": "code",
      "execution_count": 11,
      "metadata": {
        "colab": {
          "base_uri": "https://localhost:8080/",
          "height": 270
        },
        "id": "Dz0_xy-mapnW",
        "outputId": "364a3ea6-0a0f-40d1-b91a-7d7c29001c4e"
      },
      "outputs": [
        {
          "output_type": "execute_result",
          "data": {
            "text/plain": [
              "   magnitude  cdi  mmi  alert  tsunami  sig  net  nst   dmin   gap  magType  \\\n",
              "0        7.0    8    7      0        1  768    9  117  0.509  17.0        8   \n",
              "1        6.9    4    4      0        0  735    9   99  2.229  34.0        8   \n",
              "2        7.0    3    3      0        1  755    9  147  3.125  18.0        8   \n",
              "3        7.3    5    5      0        1  833    9  149  1.865  21.0        8   \n",
              "4        6.6    0    2      0        1  670    9  131  4.998  27.0        8   \n",
              "\n",
              "     depth  latitude  longitude  \n",
              "0   14.000   -9.7963    159.596  \n",
              "1   25.000   -4.9559    100.738  \n",
              "2  579.000  -20.0508   -178.346  \n",
              "3   37.000  -19.2918   -172.129  \n",
              "4  624.464  -25.5948    178.278  "
            ],
            "text/html": [
              "\n",
              "  <div id=\"df-c9c629b5-765a-484b-abb9-b9ba9ff942c9\">\n",
              "    <div class=\"colab-df-container\">\n",
              "      <div>\n",
              "<style scoped>\n",
              "    .dataframe tbody tr th:only-of-type {\n",
              "        vertical-align: middle;\n",
              "    }\n",
              "\n",
              "    .dataframe tbody tr th {\n",
              "        vertical-align: top;\n",
              "    }\n",
              "\n",
              "    .dataframe thead th {\n",
              "        text-align: right;\n",
              "    }\n",
              "</style>\n",
              "<table border=\"1\" class=\"dataframe\">\n",
              "  <thead>\n",
              "    <tr style=\"text-align: right;\">\n",
              "      <th></th>\n",
              "      <th>magnitude</th>\n",
              "      <th>cdi</th>\n",
              "      <th>mmi</th>\n",
              "      <th>alert</th>\n",
              "      <th>tsunami</th>\n",
              "      <th>sig</th>\n",
              "      <th>net</th>\n",
              "      <th>nst</th>\n",
              "      <th>dmin</th>\n",
              "      <th>gap</th>\n",
              "      <th>magType</th>\n",
              "      <th>depth</th>\n",
              "      <th>latitude</th>\n",
              "      <th>longitude</th>\n",
              "    </tr>\n",
              "  </thead>\n",
              "  <tbody>\n",
              "    <tr>\n",
              "      <th>0</th>\n",
              "      <td>7.0</td>\n",
              "      <td>8</td>\n",
              "      <td>7</td>\n",
              "      <td>0</td>\n",
              "      <td>1</td>\n",
              "      <td>768</td>\n",
              "      <td>9</td>\n",
              "      <td>117</td>\n",
              "      <td>0.509</td>\n",
              "      <td>17.0</td>\n",
              "      <td>8</td>\n",
              "      <td>14.000</td>\n",
              "      <td>-9.7963</td>\n",
              "      <td>159.596</td>\n",
              "    </tr>\n",
              "    <tr>\n",
              "      <th>1</th>\n",
              "      <td>6.9</td>\n",
              "      <td>4</td>\n",
              "      <td>4</td>\n",
              "      <td>0</td>\n",
              "      <td>0</td>\n",
              "      <td>735</td>\n",
              "      <td>9</td>\n",
              "      <td>99</td>\n",
              "      <td>2.229</td>\n",
              "      <td>34.0</td>\n",
              "      <td>8</td>\n",
              "      <td>25.000</td>\n",
              "      <td>-4.9559</td>\n",
              "      <td>100.738</td>\n",
              "    </tr>\n",
              "    <tr>\n",
              "      <th>2</th>\n",
              "      <td>7.0</td>\n",
              "      <td>3</td>\n",
              "      <td>3</td>\n",
              "      <td>0</td>\n",
              "      <td>1</td>\n",
              "      <td>755</td>\n",
              "      <td>9</td>\n",
              "      <td>147</td>\n",
              "      <td>3.125</td>\n",
              "      <td>18.0</td>\n",
              "      <td>8</td>\n",
              "      <td>579.000</td>\n",
              "      <td>-20.0508</td>\n",
              "      <td>-178.346</td>\n",
              "    </tr>\n",
              "    <tr>\n",
              "      <th>3</th>\n",
              "      <td>7.3</td>\n",
              "      <td>5</td>\n",
              "      <td>5</td>\n",
              "      <td>0</td>\n",
              "      <td>1</td>\n",
              "      <td>833</td>\n",
              "      <td>9</td>\n",
              "      <td>149</td>\n",
              "      <td>1.865</td>\n",
              "      <td>21.0</td>\n",
              "      <td>8</td>\n",
              "      <td>37.000</td>\n",
              "      <td>-19.2918</td>\n",
              "      <td>-172.129</td>\n",
              "    </tr>\n",
              "    <tr>\n",
              "      <th>4</th>\n",
              "      <td>6.6</td>\n",
              "      <td>0</td>\n",
              "      <td>2</td>\n",
              "      <td>0</td>\n",
              "      <td>1</td>\n",
              "      <td>670</td>\n",
              "      <td>9</td>\n",
              "      <td>131</td>\n",
              "      <td>4.998</td>\n",
              "      <td>27.0</td>\n",
              "      <td>8</td>\n",
              "      <td>624.464</td>\n",
              "      <td>-25.5948</td>\n",
              "      <td>178.278</td>\n",
              "    </tr>\n",
              "  </tbody>\n",
              "</table>\n",
              "</div>\n",
              "      <button class=\"colab-df-convert\" onclick=\"convertToInteractive('df-c9c629b5-765a-484b-abb9-b9ba9ff942c9')\"\n",
              "              title=\"Convert this dataframe to an interactive table.\"\n",
              "              style=\"display:none;\">\n",
              "        \n",
              "  <svg xmlns=\"http://www.w3.org/2000/svg\" height=\"24px\"viewBox=\"0 0 24 24\"\n",
              "       width=\"24px\">\n",
              "    <path d=\"M0 0h24v24H0V0z\" fill=\"none\"/>\n",
              "    <path d=\"M18.56 5.44l.94 2.06.94-2.06 2.06-.94-2.06-.94-.94-2.06-.94 2.06-2.06.94zm-11 1L8.5 8.5l.94-2.06 2.06-.94-2.06-.94L8.5 2.5l-.94 2.06-2.06.94zm10 10l.94 2.06.94-2.06 2.06-.94-2.06-.94-.94-2.06-.94 2.06-2.06.94z\"/><path d=\"M17.41 7.96l-1.37-1.37c-.4-.4-.92-.59-1.43-.59-.52 0-1.04.2-1.43.59L10.3 9.45l-7.72 7.72c-.78.78-.78 2.05 0 2.83L4 21.41c.39.39.9.59 1.41.59.51 0 1.02-.2 1.41-.59l7.78-7.78 2.81-2.81c.8-.78.8-2.07 0-2.86zM5.41 20L4 18.59l7.72-7.72 1.47 1.35L5.41 20z\"/>\n",
              "  </svg>\n",
              "      </button>\n",
              "      \n",
              "  <style>\n",
              "    .colab-df-container {\n",
              "      display:flex;\n",
              "      flex-wrap:wrap;\n",
              "      gap: 12px;\n",
              "    }\n",
              "\n",
              "    .colab-df-convert {\n",
              "      background-color: #E8F0FE;\n",
              "      border: none;\n",
              "      border-radius: 50%;\n",
              "      cursor: pointer;\n",
              "      display: none;\n",
              "      fill: #1967D2;\n",
              "      height: 32px;\n",
              "      padding: 0 0 0 0;\n",
              "      width: 32px;\n",
              "    }\n",
              "\n",
              "    .colab-df-convert:hover {\n",
              "      background-color: #E2EBFA;\n",
              "      box-shadow: 0px 1px 2px rgba(60, 64, 67, 0.3), 0px 1px 3px 1px rgba(60, 64, 67, 0.15);\n",
              "      fill: #174EA6;\n",
              "    }\n",
              "\n",
              "    [theme=dark] .colab-df-convert {\n",
              "      background-color: #3B4455;\n",
              "      fill: #D2E3FC;\n",
              "    }\n",
              "\n",
              "    [theme=dark] .colab-df-convert:hover {\n",
              "      background-color: #434B5C;\n",
              "      box-shadow: 0px 1px 3px 1px rgba(0, 0, 0, 0.15);\n",
              "      filter: drop-shadow(0px 1px 2px rgba(0, 0, 0, 0.3));\n",
              "      fill: #FFFFFF;\n",
              "    }\n",
              "  </style>\n",
              "\n",
              "      <script>\n",
              "        const buttonEl =\n",
              "          document.querySelector('#df-c9c629b5-765a-484b-abb9-b9ba9ff942c9 button.colab-df-convert');\n",
              "        buttonEl.style.display =\n",
              "          google.colab.kernel.accessAllowed ? 'block' : 'none';\n",
              "\n",
              "        async function convertToInteractive(key) {\n",
              "          const element = document.querySelector('#df-c9c629b5-765a-484b-abb9-b9ba9ff942c9');\n",
              "          const dataTable =\n",
              "            await google.colab.kernel.invokeFunction('convertToInteractive',\n",
              "                                                     [key], {});\n",
              "          if (!dataTable) return;\n",
              "\n",
              "          const docLinkHtml = 'Like what you see? Visit the ' +\n",
              "            '<a target=\"_blank\" href=https://colab.research.google.com/notebooks/data_table.ipynb>data table notebook</a>'\n",
              "            + ' to learn more about interactive tables.';\n",
              "          element.innerHTML = '';\n",
              "          dataTable['output_type'] = 'display_data';\n",
              "          await google.colab.output.renderOutput(dataTable, element);\n",
              "          const docLink = document.createElement('div');\n",
              "          docLink.innerHTML = docLinkHtml;\n",
              "          element.appendChild(docLink);\n",
              "        }\n",
              "      </script>\n",
              "    </div>\n",
              "  </div>\n",
              "  "
            ]
          },
          "metadata": {},
          "execution_count": 11
        }
      ],
      "source": [
        "import pandas as pd\n",
        "import matplotlib.pyplot as plt\n",
        "import numpy as np\n",
        "import seaborn as sns\n",
        "from sklearn.preprocessing import LabelEncoder\n",
        "le = LabelEncoder()\n",
        "%matplotlib inline\n",
        "data1 = pd.read_csv('earthquake_data.csv')\n",
        "data1 = data1.drop(columns=[\"title\",\"date_time\",\"location\",\"country\",\"continent\"])\n",
        "#\n",
        "le = LabelEncoder()\n",
        "data1.alert = le.fit_transform(data1.alert)\n",
        "data1.net = le.fit_transform(data1.net)\n",
        "data1.magType = le.fit_transform(data1.magType)\n",
        "data1 = data1.fillna(0)\n",
        "x3 = data1.drop(columns=[\"tsunami\"])\n",
        "y3 = data1[\"tsunami\"]\n",
        "data1.head()"
      ]
    },
    {
      "cell_type": "code",
      "source": [
        "sns.heatmap(data1.corr())"
      ],
      "metadata": {
        "colab": {
          "base_uri": "https://localhost:8080/",
          "height": 514
        },
        "id": "jfF8ebMUiRe1",
        "outputId": "af655355-0494-41c7-dbb0-f63734170d20"
      },
      "execution_count": 12,
      "outputs": [
        {
          "output_type": "execute_result",
          "data": {
            "text/plain": [
              "<Axes: >"
            ]
          },
          "metadata": {},
          "execution_count": 12
        },
        {
          "output_type": "display_data",
          "data": {
            "text/plain": [
              "<Figure size 640x480 with 2 Axes>"
            ],
            "image/png": "[encoded data removed]"
          },
          "metadata": {}
        }
      ]
    },
    {
      "cell_type": "code",
      "source": [
        "from sklearn.model_selection import train_test_split\n",
        "x_train, x_test, y_train, y_test = train_test_split(x3,y3,test_size=0.2)\n",
        "from sklearn import tree\n",
        "md = tree.DecisionTreeClassifier()\n",
        "md.fit(x_train,y_train)\n",
        "md.score(x_test,y_test)"
      ],
      "metadata": {
        "colab": {
          "base_uri": "https://localhost:8080/"
        },
        "id": "Os2PAvlPiWpw",
        "outputId": "0c9a9a03-2fe5-4df0-f033-40e28e547dc2"
      },
      "execution_count": 13,
      "outputs": [
        {
          "output_type": "execute_result",
          "data": {
            "text/plain": [
              "0.8726114649681529"
            ]
          },
          "metadata": {},
          "execution_count": 13
        }
      ]
    },
    {
      "cell_type": "code",
      "source": [
        "from sklearn.ensemble import RandomForestClassifier\n",
        "md = RandomForestClassifier()\n",
        "md.fit(x_train,y_train)\n",
        "md.score(x_test,y_test)"
      ],
      "metadata": {
        "colab": {
          "base_uri": "https://localhost:8080/"
        },
        "id": "ctA9XfMGjksd",
        "outputId": "1b701283-99fa-45a5-9ea4-4ea88493c845"
      },
      "execution_count": 14,
      "outputs": [
        {
          "output_type": "execute_result",
          "data": {
            "text/plain": [
              "0.9044585987261147"
            ]
          },
          "metadata": {},
          "execution_count": 14
        }
      ]
    }
  ]
}