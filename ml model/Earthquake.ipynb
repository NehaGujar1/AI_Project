{
  "nbformat": 4,
  "nbformat_minor": 0,
  "metadata": {
    "colab": {
      "provenance": []
    },
    "kernelspec": {
      "name": "python3",
      "display_name": "Python 3"
    },
    "language_info": {
      "name": "python"
    }
  },
  "cells": [
    {
      "cell_type": "code",
      "execution_count": 43,
      "metadata": {
        "colab": {
          "base_uri": "https://localhost:8080/",
          "height": 270
        },
        "id": "CsvqZBID0IQ2",
        "outputId": "613b1c92-da62-4ead-9741-9774eff07689"
      },
      "outputs": [
        {
          "output_type": "execute_result",
          "data": {
            "text/plain": [
              "   Latitude  Longitude   Depth  Mag  MagType    nst   gap   dmin   rms  \\\n",
              "0   -6.5986   132.0763  38.615  6.1       15  119.0  51.0  2.988  0.76   \n",
              "1  -15.0912   167.0294  36.029  5.6       15   81.0  26.0  0.392  0.94   \n",
              "2   12.3238   123.8662  20.088  6.1       15  148.0  47.0  5.487  0.54   \n",
              "3  -40.5465   174.5709  74.320  5.7       15   81.0  40.0  0.768  1.15   \n",
              "4   45.1126    23.1781  10.000  5.6       15  132.0  28.0  1.197  0.40   \n",
              "\n",
              "   horizontalError  depthError  magNst  \n",
              "0             6.41       5.595    23.0  \n",
              "1             5.99       6.080    18.0  \n",
              "2             8.61       4.399    71.0  \n",
              "3             3.68       4.922    23.0  \n",
              "4             4.85       1.794    95.0  "
            ],
            "text/html": [
              "\n",
              "  <div id=\"df-ee2cda3f-9f17-40c4-8c59-6ae71ebf5567\">\n",
              "    <div class=\"colab-df-container\">\n",
              "      <div>\n",
              "<style scoped>\n",
              "    .dataframe tbody tr th:only-of-type {\n",
              "        vertical-align: middle;\n",
              "    }\n",
              "\n",
              "    .dataframe tbody tr th {\n",
              "        vertical-align: top;\n",
              "    }\n",
              "\n",
              "    .dataframe thead th {\n",
              "        text-align: right;\n",
              "    }\n",
              "</style>\n",
              "<table border=\"1\" class=\"dataframe\">\n",
              "  <thead>\n",
              "    <tr style=\"text-align: right;\">\n",
              "      <th></th>\n",
              "      <th>Latitude</th>\n",
              "      <th>Longitude</th>\n",
              "      <th>Depth</th>\n",
              "      <th>Mag</th>\n",
              "      <th>MagType</th>\n",
              "      <th>nst</th>\n",
              "      <th>gap</th>\n",
              "      <th>dmin</th>\n",
              "      <th>rms</th>\n",
              "      <th>horizontalError</th>\n",
              "      <th>depthError</th>\n",
              "      <th>magNst</th>\n",
              "    </tr>\n",
              "  </thead>\n",
              "  <tbody>\n",
              "    <tr>\n",
              "      <th>0</th>\n",
              "      <td>-6.5986</td>\n",
              "      <td>132.0763</td>\n",
              "      <td>38.615</td>\n",
              "      <td>6.1</td>\n",
              "      <td>15</td>\n",
              "      <td>119.0</td>\n",
              "      <td>51.0</td>\n",
              "      <td>2.988</td>\n",
              "      <td>0.76</td>\n",
              "      <td>6.41</td>\n",
              "      <td>5.595</td>\n",
              "      <td>23.0</td>\n",
              "    </tr>\n",
              "    <tr>\n",
              "      <th>1</th>\n",
              "      <td>-15.0912</td>\n",
              "      <td>167.0294</td>\n",
              "      <td>36.029</td>\n",
              "      <td>5.6</td>\n",
              "      <td>15</td>\n",
              "      <td>81.0</td>\n",
              "      <td>26.0</td>\n",
              "      <td>0.392</td>\n",
              "      <td>0.94</td>\n",
              "      <td>5.99</td>\n",
              "      <td>6.080</td>\n",
              "      <td>18.0</td>\n",
              "    </tr>\n",
              "    <tr>\n",
              "      <th>2</th>\n",
              "      <td>12.3238</td>\n",
              "      <td>123.8662</td>\n",
              "      <td>20.088</td>\n",
              "      <td>6.1</td>\n",
              "      <td>15</td>\n",
              "      <td>148.0</td>\n",
              "      <td>47.0</td>\n",
              "      <td>5.487</td>\n",
              "      <td>0.54</td>\n",
              "      <td>8.61</td>\n",
              "      <td>4.399</td>\n",
              "      <td>71.0</td>\n",
              "    </tr>\n",
              "    <tr>\n",
              "      <th>3</th>\n",
              "      <td>-40.5465</td>\n",
              "      <td>174.5709</td>\n",
              "      <td>74.320</td>\n",
              "      <td>5.7</td>\n",
              "      <td>15</td>\n",
              "      <td>81.0</td>\n",
              "      <td>40.0</td>\n",
              "      <td>0.768</td>\n",
              "      <td>1.15</td>\n",
              "      <td>3.68</td>\n",
              "      <td>4.922</td>\n",
              "      <td>23.0</td>\n",
              "    </tr>\n",
              "    <tr>\n",
              "      <th>4</th>\n",
              "      <td>45.1126</td>\n",
              "      <td>23.1781</td>\n",
              "      <td>10.000</td>\n",
              "      <td>5.6</td>\n",
              "      <td>15</td>\n",
              "      <td>132.0</td>\n",
              "      <td>28.0</td>\n",
              "      <td>1.197</td>\n",
              "      <td>0.40</td>\n",
              "      <td>4.85</td>\n",
              "      <td>1.794</td>\n",
              "      <td>95.0</td>\n",
              "    </tr>\n",
              "  </tbody>\n",
              "</table>\n",
              "</div>\n",
              "      <button class=\"colab-df-convert\" onclick=\"convertToInteractive('df-ee2cda3f-9f17-40c4-8c59-6ae71ebf5567')\"\n",
              "              title=\"Convert this dataframe to an interactive table.\"\n",
              "              style=\"display:none;\">\n",
              "        \n",
              "  <svg xmlns=\"http://www.w3.org/2000/svg\" height=\"24px\"viewBox=\"0 0 24 24\"\n",
              "       width=\"24px\">\n",
              "    <path d=\"M0 0h24v24H0V0z\" fill=\"none\"/>\n",
              "    <path d=\"M18.56 5.44l.94 2.06.94-2.06 2.06-.94-2.06-.94-.94-2.06-.94 2.06-2.06.94zm-11 1L8.5 8.5l.94-2.06 2.06-.94-2.06-.94L8.5 2.5l-.94 2.06-2.06.94zm10 10l.94 2.06.94-2.06 2.06-.94-2.06-.94-.94-2.06-.94 2.06-2.06.94z\"/><path d=\"M17.41 7.96l-1.37-1.37c-.4-.4-.92-.59-1.43-.59-.52 0-1.04.2-1.43.59L10.3 9.45l-7.72 7.72c-.78.78-.78 2.05 0 2.83L4 21.41c.39.39.9.59 1.41.59.51 0 1.02-.2 1.41-.59l7.78-7.78 2.81-2.81c.8-.78.8-2.07 0-2.86zM5.41 20L4 18.59l7.72-7.72 1.47 1.35L5.41 20z\"/>\n",
              "  </svg>\n",
              "      </button>\n",
              "      \n",
              "  <style>\n",
              "    .colab-df-container {\n",
              "      display:flex;\n",
              "      flex-wrap:wrap;\n",
              "      gap: 12px;\n",
              "    }\n",
              "\n",
              "    .colab-df-convert {\n",
              "      background-color: #E8F0FE;\n",
              "      border: none;\n",
              "      border-radius: 50%;\n",
              "      cursor: pointer;\n",
              "      display: none;\n",
              "      fill: #1967D2;\n",
              "      height: 32px;\n",
              "      padding: 0 0 0 0;\n",
              "      width: 32px;\n",
              "    }\n",
              "\n",
              "    .colab-df-convert:hover {\n",
              "      background-color: #E2EBFA;\n",
              "      box-shadow: 0px 1px 2px rgba(60, 64, 67, 0.3), 0px 1px 3px 1px rgba(60, 64, 67, 0.15);\n",
              "      fill: #174EA6;\n",
              "    }\n",
              "\n",
              "    [theme=dark] .colab-df-convert {\n",
              "      background-color: #3B4455;\n",
              "      fill: #D2E3FC;\n",
              "    }\n",
              "\n",
              "    [theme=dark] .colab-df-convert:hover {\n",
              "      background-color: #434B5C;\n",
              "      box-shadow: 0px 1px 3px 1px rgba(0, 0, 0, 0.15);\n",
              "      filter: drop-shadow(0px 1px 2px rgba(0, 0, 0, 0.3));\n",
              "      fill: #FFFFFF;\n",
              "    }\n",
              "  </style>\n",
              "\n",
              "      <script>\n",
              "        const buttonEl =\n",
              "          document.querySelector('#df-ee2cda3f-9f17-40c4-8c59-6ae71ebf5567 button.colab-df-convert');\n",
              "        buttonEl.style.display =\n",
              "          google.colab.kernel.accessAllowed ? 'block' : 'none';\n",
              "\n",
              "        async function convertToInteractive(key) {\n",
              "          const element = document.querySelector('#df-ee2cda3f-9f17-40c4-8c59-6ae71ebf5567');\n",
              "          const dataTable =\n",
              "            await google.colab.kernel.invokeFunction('convertToInteractive',\n",
              "                                                     [key], {});\n",
              "          if (!dataTable) return;\n",
              "\n",
              "          const docLinkHtml = 'Like what you see? Visit the ' +\n",
              "            '<a target=\"_blank\" href=https://colab.research.google.com/notebooks/data_table.ipynb>data table notebook</a>'\n",
              "            + ' to learn more about interactive tables.';\n",
              "          element.innerHTML = '';\n",
              "          dataTable['output_type'] = 'display_data';\n",
              "          await google.colab.output.renderOutput(dataTable, element);\n",
              "          const docLink = document.createElement('div');\n",
              "          docLink.innerHTML = docLinkHtml;\n",
              "          element.appendChild(docLink);\n",
              "        }\n",
              "      </script>\n",
              "    </div>\n",
              "  </div>\n",
              "  "
            ]
          },
          "metadata": {},
          "execution_count": 43
        }
      ],
      "source": [
        "import pandas as pd\n",
        "import matplotlib.pyplot as plt\n",
        "import numpy as np\n",
        "import seaborn as sns\n",
        "from sklearn.preprocessing import LabelEncoder\n",
        "le = LabelEncoder()\n",
        "%matplotlib inline\n",
        "data1 = pd.read_csv('Significant Earthquake Dataset 1900-2023.csv')\n",
        "data1 = data1.fillna(0)\n",
        "# data1[\"Type\"]\n",
        "# # filter = (data1[\"Type\"] == 'earthquake').any()\n",
        "data1 = data1[data1[\"Type\"] == 'earthquake']\n",
        "data1.magSource = le.fit_transform(data1.magSource)\n",
        "data1.MagType = le.fit_transform(data1.MagType)\n",
        "data1.net = le.fit_transform(data1.net)\n",
        "data1.locationSource = le.fit_transform(data1.locationSource)\n",
        "data1.Type = le.fit_transform(data1.Type)\n",
        "data1 = data1.drop(columns=[\"Time\",\"Place\",\"ID\",\"Updated\",\"Unnamed: 14\",\"magError\",\"status\",\"Type\",\"locationSource\",\"magSource\",\"net\"])\n",
        "x3 = data1.drop(columns=[\"Mag\"])\n",
        "y3 = data1[\"Mag\"]\n",
        "data1.head()\n",
        "# data1[\"Type\"]\n",
        "# data1[\"magSource\"]"
      ]
    },
    {
      "cell_type": "code",
      "source": [
        "sns.heatmap(data1.corr())"
      ],
      "metadata": {
        "colab": {
          "base_uri": "https://localhost:8080/",
          "height": 507
        },
        "id": "uS3CEGBEFmOx",
        "outputId": "8f39dba2-b339-40a0-8f85-65afb902a774"
      },
      "execution_count": 38,
      "outputs": [
        {
          "output_type": "execute_result",
          "data": {
            "text/plain": [
              "<Axes: >"
            ]
          },
          "metadata": {},
          "execution_count": 38
        },
        {
          "output_type": "display_data",
          "data": {
            "text/plain": [
              "<Figure size 640x480 with 2 Axes>"
            ],
            "image/png": "[encoded data removed]"
          },
          "metadata": {}
        }
      ]
    },
    {
      "cell_type": "code",
      "source": [
        "from sklearn.model_selection import train_test_split\n",
        "x_train, x_test, y_train, y_test = train_test_split(x3,y3,test_size=0.2)\n",
        "from sklearn import tree\n",
        "md = tree.DecisionTreeRegressor(random_state=42)\n",
        "# from sklearn.metrics import r2_score\n",
        "# md = r2_score()\n",
        "md.fit(x_train,y_train)\n",
        "md.score(x_test,y_test)\n",
        "# y_predicted = md.predict(x_test)\n",
        "# from sklearn.metrics import confusion_matrix\n",
        "# cm = confusion_matrix(y_test, y_predicted)\n",
        "# sns.heatmap(cm,annot=True)\n",
        "# plt.xlabel('Predicted')\n",
        "# plt.ylabel('Truth')"
      ],
      "metadata": {
        "colab": {
          "base_uri": "https://localhost:8080/"
        },
        "id": "YBx_9gGaGZJR",
        "outputId": "1ffe7ac7-ab07-4c96-d4fd-62da1526b3e6"
      },
      "execution_count": 44,
      "outputs": [
        {
          "output_type": "execute_result",
          "data": {
            "text/plain": [
              "-0.4518603470658853"
            ]
          },
          "metadata": {},
          "execution_count": 44
        }
      ]
    },
    {
      "cell_type": "code",
      "source": [
        "from xgboost import XGBRegressor\n",
        "md = XGBRegressor()\n",
        "md.fit(x_train,y_train)\n",
        "md.score(x_test,y_test)"
      ],
      "metadata": {
        "colab": {
          "base_uri": "https://localhost:8080/"
        },
        "id": "7M84Do7wMjQJ",
        "outputId": "27e01775-912b-42f0-9bed-75576aef1b66"
      },
      "execution_count": 45,
      "outputs": [
        {
          "output_type": "execute_result",
          "data": {
            "text/plain": [
              "0.2293164086288062"
            ]
          },
          "metadata": {},
          "execution_count": 45
        }
      ]
    },
    {
      "cell_type": "code",
      "source": [
        "from sklearn.ensemble import RandomForestRegressor\n",
        "md = RandomForestRegressor()\n",
        "md.fit(x_train,y_train)\n",
        "md.score(x_test,y_test)"
      ],
      "metadata": {
        "colab": {
          "base_uri": "https://localhost:8080/"
        },
        "id": "qS0uLxh2Scvh",
        "outputId": "423ef908-76d9-4f7b-c16f-479427a54e00"
      },
      "execution_count": 46,
      "outputs": [
        {
          "output_type": "execute_result",
          "data": {
            "text/plain": [
              "0.19442099763013543"
            ]
          },
          "metadata": {},
          "execution_count": 46
        }
      ]
    }
  ]
}