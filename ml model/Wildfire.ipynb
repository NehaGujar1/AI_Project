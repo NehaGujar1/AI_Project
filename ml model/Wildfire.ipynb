{
  "nbformat": 4,
  "nbformat_minor": 0,
  "metadata": {
    "colab": {
      "provenance": []
    },
    "kernelspec": {
      "name": "python3",
      "display_name": "Python 3"
    },
    "language_info": {
      "name": "python"
    }
  },
  "cells": [
    {
      "cell_type": "code",
      "execution_count": 66,
      "metadata": {
        "colab": {
          "base_uri": "https://localhost:8080/",
          "height": 243
        },
        "id": "_JJUtgRfhwYh",
        "outputId": "f9cfde53-153b-47a6-b789-0face8f056da"
      },
      "outputs": [
        {
          "output_type": "stream",
          "name": "stdout",
          "text": [
            "['Temperature', ' RH', ' Ws', 'Rain ', 'FFMC', 'DMC', 'DC', 'ISI', 'BUI', 'FWI', 'Classes  ']\n"
          ]
        },
        {
          "output_type": "execute_result",
          "data": {
            "text/plain": [
              "   Temperature   RH   Ws  Rain   FFMC  DMC    DC  ISI  BUI  FWI  Classes  \n",
              "0           32   71   12    0.7  57.1  2.5   8.2  0.6  2.8  0.2          0\n",
              "1           30   73   13    4.0  55.7  2.7   7.8  0.6  2.9  0.2          0\n",
              "2           29   80   14    2.0  48.7  2.2   7.6  0.3  2.6  0.1          0\n",
              "3           30   64   14    0.0  79.4  5.2  15.4  2.2  5.6    1          0\n",
              "4           32   60   14    0.2  77.1  6.0  17.6  1.8  6.5  0.9          0"
            ],
            "text/html": [
              "\n",
              "  <div id=\"df-f355e1e8-ebf6-4d7f-8baf-847ad664ca39\">\n",
              "    <div class=\"colab-df-container\">\n",
              "      <div>\n",
              "<style scoped>\n",
              "    .dataframe tbody tr th:only-of-type {\n",
              "        vertical-align: middle;\n",
              "    }\n",
              "\n",
              "    .dataframe tbody tr th {\n",
              "        vertical-align: top;\n",
              "    }\n",
              "\n",
              "    .dataframe thead th {\n",
              "        text-align: right;\n",
              "    }\n",
              "</style>\n",
              "<table border=\"1\" class=\"dataframe\">\n",
              "  <thead>\n",
              "    <tr style=\"text-align: right;\">\n",
              "      <th></th>\n",
              "      <th>Temperature</th>\n",
              "      <th>RH</th>\n",
              "      <th>Ws</th>\n",
              "      <th>Rain</th>\n",
              "      <th>FFMC</th>\n",
              "      <th>DMC</th>\n",
              "      <th>DC</th>\n",
              "      <th>ISI</th>\n",
              "      <th>BUI</th>\n",
              "      <th>FWI</th>\n",
              "      <th>Classes</th>\n",
              "    </tr>\n",
              "  </thead>\n",
              "  <tbody>\n",
              "    <tr>\n",
              "      <th>0</th>\n",
              "      <td>32</td>\n",
              "      <td>71</td>\n",
              "      <td>12</td>\n",
              "      <td>0.7</td>\n",
              "      <td>57.1</td>\n",
              "      <td>2.5</td>\n",
              "      <td>8.2</td>\n",
              "      <td>0.6</td>\n",
              "      <td>2.8</td>\n",
              "      <td>0.2</td>\n",
              "      <td>0</td>\n",
              "    </tr>\n",
              "    <tr>\n",
              "      <th>1</th>\n",
              "      <td>30</td>\n",
              "      <td>73</td>\n",
              "      <td>13</td>\n",
              "      <td>4.0</td>\n",
              "      <td>55.7</td>\n",
              "      <td>2.7</td>\n",
              "      <td>7.8</td>\n",
              "      <td>0.6</td>\n",
              "      <td>2.9</td>\n",
              "      <td>0.2</td>\n",
              "      <td>0</td>\n",
              "    </tr>\n",
              "    <tr>\n",
              "      <th>2</th>\n",
              "      <td>29</td>\n",
              "      <td>80</td>\n",
              "      <td>14</td>\n",
              "      <td>2.0</td>\n",
              "      <td>48.7</td>\n",
              "      <td>2.2</td>\n",
              "      <td>7.6</td>\n",
              "      <td>0.3</td>\n",
              "      <td>2.6</td>\n",
              "      <td>0.1</td>\n",
              "      <td>0</td>\n",
              "    </tr>\n",
              "    <tr>\n",
              "      <th>3</th>\n",
              "      <td>30</td>\n",
              "      <td>64</td>\n",
              "      <td>14</td>\n",
              "      <td>0.0</td>\n",
              "      <td>79.4</td>\n",
              "      <td>5.2</td>\n",
              "      <td>15.4</td>\n",
              "      <td>2.2</td>\n",
              "      <td>5.6</td>\n",
              "      <td>1</td>\n",
              "      <td>0</td>\n",
              "    </tr>\n",
              "    <tr>\n",
              "      <th>4</th>\n",
              "      <td>32</td>\n",
              "      <td>60</td>\n",
              "      <td>14</td>\n",
              "      <td>0.2</td>\n",
              "      <td>77.1</td>\n",
              "      <td>6.0</td>\n",
              "      <td>17.6</td>\n",
              "      <td>1.8</td>\n",
              "      <td>6.5</td>\n",
              "      <td>0.9</td>\n",
              "      <td>0</td>\n",
              "    </tr>\n",
              "  </tbody>\n",
              "</table>\n",
              "</div>\n",
              "      <button class=\"colab-df-convert\" onclick=\"convertToInteractive('df-f355e1e8-ebf6-4d7f-8baf-847ad664ca39')\"\n",
              "              title=\"Convert this dataframe to an interactive table.\"\n",
              "              style=\"display:none;\">\n",
              "        \n",
              "  <svg xmlns=\"http://www.w3.org/2000/svg\" height=\"24px\"viewBox=\"0 0 24 24\"\n",
              "       width=\"24px\">\n",
              "    <path d=\"M0 0h24v24H0V0z\" fill=\"none\"/>\n",
              "    <path d=\"M18.56 5.44l.94 2.06.94-2.06 2.06-.94-2.06-.94-.94-2.06-.94 2.06-2.06.94zm-11 1L8.5 8.5l.94-2.06 2.06-.94-2.06-.94L8.5 2.5l-.94 2.06-2.06.94zm10 10l.94 2.06.94-2.06 2.06-.94-2.06-.94-.94-2.06-.94 2.06-2.06.94z\"/><path d=\"M17.41 7.96l-1.37-1.37c-.4-.4-.92-.59-1.43-.59-.52 0-1.04.2-1.43.59L10.3 9.45l-7.72 7.72c-.78.78-.78 2.05 0 2.83L4 21.41c.39.39.9.59 1.41.59.51 0 1.02-.2 1.41-.59l7.78-7.78 2.81-2.81c.8-.78.8-2.07 0-2.86zM5.41 20L4 18.59l7.72-7.72 1.47 1.35L5.41 20z\"/>\n",
              "  </svg>\n",
              "      </button>\n",
              "      \n",
              "  <style>\n",
              "    .colab-df-container {\n",
              "      display:flex;\n",
              "      flex-wrap:wrap;\n",
              "      gap: 12px;\n",
              "    }\n",
              "\n",
              "    .colab-df-convert {\n",
              "      background-color: #E8F0FE;\n",
              "      border: none;\n",
              "      border-radius: 50%;\n",
              "      cursor: pointer;\n",
              "      display: none;\n",
              "      fill: #1967D2;\n",
              "      height: 32px;\n",
              "      padding: 0 0 0 0;\n",
              "      width: 32px;\n",
              "    }\n",
              "\n",
              "    .colab-df-convert:hover {\n",
              "      background-color: #E2EBFA;\n",
              "      box-shadow: 0px 1px 2px rgba(60, 64, 67, 0.3), 0px 1px 3px 1px rgba(60, 64, 67, 0.15);\n",
              "      fill: #174EA6;\n",
              "    }\n",
              "\n",
              "    [theme=dark] .colab-df-convert {\n",
              "      background-color: #3B4455;\n",
              "      fill: #D2E3FC;\n",
              "    }\n",
              "\n",
              "    [theme=dark] .colab-df-convert:hover {\n",
              "      background-color: #434B5C;\n",
              "      box-shadow: 0px 1px 3px 1px rgba(0, 0, 0, 0.15);\n",
              "      filter: drop-shadow(0px 1px 2px rgba(0, 0, 0, 0.3));\n",
              "      fill: #FFFFFF;\n",
              "    }\n",
              "  </style>\n",
              "\n",
              "      <script>\n",
              "        const buttonEl =\n",
              "          document.querySelector('#df-f355e1e8-ebf6-4d7f-8baf-847ad664ca39 button.colab-df-convert');\n",
              "        buttonEl.style.display =\n",
              "          google.colab.kernel.accessAllowed ? 'block' : 'none';\n",
              "\n",
              "        async function convertToInteractive(key) {\n",
              "          const element = document.querySelector('#df-f355e1e8-ebf6-4d7f-8baf-847ad664ca39');\n",
              "          const dataTable =\n",
              "            await google.colab.kernel.invokeFunction('convertToInteractive',\n",
              "                                                     [key], {});\n",
              "          if (!dataTable) return;\n",
              "\n",
              "          const docLinkHtml = 'Like what you see? Visit the ' +\n",
              "            '<a target=\"_blank\" href=https://colab.research.google.com/notebooks/data_table.ipynb>data table notebook</a>'\n",
              "            + ' to learn more about interactive tables.';\n",
              "          element.innerHTML = '';\n",
              "          dataTable['output_type'] = 'display_data';\n",
              "          await google.colab.output.renderOutput(dataTable, element);\n",
              "          const docLink = document.createElement('div');\n",
              "          docLink.innerHTML = docLinkHtml;\n",
              "          element.appendChild(docLink);\n",
              "        }\n",
              "      </script>\n",
              "    </div>\n",
              "  </div>\n",
              "  "
            ]
          },
          "metadata": {},
          "execution_count": 66
        }
      ],
      "source": [
        "import pandas as pd\n",
        "import matplotlib.pyplot as plt\n",
        "import numpy as np\n",
        "import seaborn as sns\n",
        "from sklearn.preprocessing import LabelEncoder\n",
        "le = LabelEncoder()\n",
        "%matplotlib inline\n",
        "data1 = pd.read_csv('Algerian_forest_fires_dataset_UPDATE.csv')\n",
        "# data1[\"area\"].max()\n",
        "data1 = data1.drop(columns=[\"month\",\"day\",\"year\"])\n",
        "# data1=data1.dropna()\n",
        "data1 = data1[data1['Classes  '].notna()]\n",
        "data1 = data1.replace({'Classes  ': {'fire   ': 1, 'not fire    ': 0, 'not fire     ': 0, 'not fire   ': 0}})\n",
        "print(data1.columns.tolist())\n",
        "# data1[\"Classes  \"] = le.fit_transform(data1[\"Classes  \"])\n",
        "x3 = data1.drop(columns=[\"Classes  \"])\n",
        "y3 = data1[\"Classes  \"]\n",
        "data1.head()"
      ]
    },
    {
      "cell_type": "code",
      "source": [
        "myset = set(data1[\"Classes  \"])\n",
        "print(myset)"
      ],
      "metadata": {
        "colab": {
          "base_uri": "https://localhost:8080/"
        },
        "id": "xJBAdfqw6iTf",
        "outputId": "96688817-20d8-4d9f-c794-8fa22e2dd906"
      },
      "execution_count": 61,
      "outputs": [
        {
          "output_type": "stream",
          "name": "stdout",
          "text": [
            "{'not fire   ', 'not fire     ', 'not fire    ', 'fire   ', nan}\n"
          ]
        }
      ]
    },
    {
      "cell_type": "code",
      "source": [
        "sns.heatmap(data1.corr())"
      ],
      "metadata": {
        "colab": {
          "base_uri": "https://localhost:8080/",
          "height": 581
        },
        "id": "722IgFJJizop",
        "outputId": "0354e979-d1ae-4d1f-b5dc-93a2871935e6"
      },
      "execution_count": 67,
      "outputs": [
        {
          "output_type": "stream",
          "name": "stderr",
          "text": [
            "<ipython-input-67-5faab5a918a0>:1: FutureWarning: The default value of numeric_only in DataFrame.corr is deprecated. In a future version, it will default to False. Select only valid columns or specify the value of numeric_only to silence this warning.\n",
            "  sns.heatmap(data1.corr())\n"
          ]
        },
        {
          "output_type": "execute_result",
          "data": {
            "text/plain": [
              "<Axes: >"
            ]
          },
          "metadata": {},
          "execution_count": 67
        },
        {
          "output_type": "display_data",
          "data": {
            "text/plain": [
              "<Figure size 640x480 with 2 Axes>"
            ],
            "image/png": "[encoded data removed]"
          },
          "metadata": {}
        }
      ]
    },
    {
      "cell_type": "code",
      "source": [
        "from sklearn import linear_model\n",
        "data1le = data1\n",
        "# data1le.st = le.fit_transform(data1le.st)\n",
        "X = x3\n",
        "Y = y3\n",
        "from sklearn.model_selection import train_test_split\n",
        "x_train, x_test, y_train, y_test = train_test_split(X,Y,test_size=0.2)\n",
        "reg = linear_model.LinearRegression()\n",
        "reg.fit(x_train,y_train)\n",
        "print(\"Linear Classification Accuracy: {:.4f}%\".format(reg.score(x_test, y_test) * 100))\n",
        "# reg.coef_\n",
        "# reg.intercept_\n",
        "# reg.predict([[42,43,10]])\n",
        "reg.score(x_test,y_test)"
      ],
      "metadata": {
        "colab": {
          "base_uri": "https://localhost:8080/"
        },
        "id": "7UiFfJy2jhJJ",
        "outputId": "b1037367-d4a3-41b8-966f-e757c60ea5d2"
      },
      "execution_count": 69,
      "outputs": [
        {
          "output_type": "stream",
          "name": "stdout",
          "text": [
            "Linear Classification Accuracy: 62.9640%\n"
          ]
        },
        {
          "output_type": "execute_result",
          "data": {
            "text/plain": [
              "0.6296399607248289"
            ]
          },
          "metadata": {},
          "execution_count": 69
        }
      ]
    },
    {
      "cell_type": "code",
      "source": [
        "from sklearn.linear_model import LogisticRegression\n",
        "md = LogisticRegression()\n",
        "from sklearn.model_selection import train_test_split\n",
        "x_train, x_test, y_train, y_test = train_test_split(x3,y3,test_size=0.2)\n",
        "# md.fit(x_train, y_train)\n",
        "# md.predict([[42,43,10]])\n",
        "# md.score(x_test,y_test)\n",
        "# md.predict_proba(x_test)\n",
        "from sklearn import tree\n",
        "md = tree.DecisionTreeRegressor()\n",
        "md.fit(x_train,y_train)\n",
        "md.score(x_test,y_test)\n",
        "# from sklearn.svm import SVC\n",
        "# sv = SVC() #C=> regularization = distance\n",
        "# sv.fit(x_train,y_train)\n",
        "# sv.score(x_test,y_test)\n",
        "# md.predict([[42,43,10]])"
      ],
      "metadata": {
        "colab": {
          "base_uri": "https://localhost:8080/"
        },
        "id": "CvlPFhdvkF5Q",
        "outputId": "069f56ab-0ef9-48ed-b623-02e9376cf22f"
      },
      "execution_count": 70,
      "outputs": [
        {
          "output_type": "execute_result",
          "data": {
            "text/plain": [
              "0.6527777777777779"
            ]
          },
          "metadata": {},
          "execution_count": 70
        }
      ]
    },
    {
      "cell_type": "code",
      "source": [],
      "metadata": {
        "id": "Bt-IdCLPm3c2"
      },
      "execution_count": null,
      "outputs": []
    },
    {
      "cell_type": "code",
      "source": [
        "from sklearn.svm import SVR\n",
        "sv = SVR() #C=> regularization = distance\n",
        "sv.fit(x_train,y_train)\n",
        "sv.score(x_test,y_test)"
      ],
      "metadata": {
        "colab": {
          "base_uri": "https://localhost:8080/"
        },
        "id": "H0zD1zIZTg__",
        "outputId": "facb496f-0b5d-444e-a1f5-4cfb7264d362"
      },
      "execution_count": 71,
      "outputs": [
        {
          "output_type": "execute_result",
          "data": {
            "text/plain": [
              "0.589185293765181"
            ]
          },
          "metadata": {},
          "execution_count": 71
        }
      ]
    },
    {
      "cell_type": "code",
      "source": [
        "from sklearn.ensemble import RandomForestRegressor\n",
        "md = RandomForestRegressor()\n",
        "md.fit(x_train,y_train)\n",
        "md.score(x_test,y_test)"
      ],
      "metadata": {
        "colab": {
          "base_uri": "https://localhost:8080/"
        },
        "id": "j49Y72z8m5FV",
        "outputId": "493bea3f-d185-4b49-a874-0e82aaedf509"
      },
      "execution_count": 74,
      "outputs": [
        {
          "output_type": "execute_result",
          "data": {
            "text/plain": [
              "0.8143576388888889"
            ]
          },
          "metadata": {},
          "execution_count": 74
        }
      ]
    }
  ]
}